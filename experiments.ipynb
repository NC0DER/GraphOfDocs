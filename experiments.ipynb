{
 "cells": [
  {
   "cell_type": "markdown",
   "metadata": {},
   "source": [
    "# Graph of Docs"
   ]
  },
  {
   "cell_type": "code",
   "execution_count": 1,
   "metadata": {},
   "outputs": [],
   "source": [
    "import pandas as pd\n",
    "from sklearn.model_selection import train_test_split\n",
    "from sklearn.feature_extraction.text import CountVectorizer\n",
    "from sklearn.preprocessing import LabelEncoder\n",
    "from sklearn.utils import shuffle\n",
    "\n",
    "from sklearn.naive_bayes import MultinomialNB\n",
    "from sklearn.linear_model import LogisticRegression\n",
    "from sklearn.neural_network import MLPClassifier\n",
    "from sklearn.neighbors import KNeighborsClassifier\n",
    "\n",
    "from sklearn.feature_selection import VarianceThreshold\n",
    "from sklearn.feature_selection import SelectKBest\n",
    "from sklearn.feature_selection import chi2\n",
    "\n",
    "from GraphOfDocs import utils\n",
    "\n",
    "%matplotlib inline"
   ]
  },
  {
   "cell_type": "code",
   "execution_count": 2,
   "metadata": {},
   "outputs": [
    {
     "data": {
      "text/html": [
       "<div>\n",
       "<style scoped>\n",
       "    .dataframe tbody tr th:only-of-type {\n",
       "        vertical-align: middle;\n",
       "    }\n",
       "\n",
       "    .dataframe tbody tr th {\n",
       "        vertical-align: top;\n",
       "    }\n",
       "\n",
       "    .dataframe thead th {\n",
       "        text-align: right;\n",
       "    }\n",
       "</style>\n",
       "<table border=\"1\" class=\"dataframe\">\n",
       "  <thead>\n",
       "    <tr style=\"text-align: right;\">\n",
       "      <th></th>\n",
       "      <th>identifier</th>\n",
       "      <th>class</th>\n",
       "      <th>class_number</th>\n",
       "      <th>text</th>\n",
       "    </tr>\n",
       "  </thead>\n",
       "  <tbody>\n",
       "    <tr>\n",
       "      <th>2571</th>\n",
       "      <td>sci.space_60960</td>\n",
       "      <td>sci.space</td>\n",
       "      <td>14</td>\n",
       "      <td>jgreen trumpet calpoly james thomas green keep...</td>\n",
       "    </tr>\n",
       "    <tr>\n",
       "      <th>3143</th>\n",
       "      <td>comp.sys.mac.hardware_51712</td>\n",
       "      <td>comp.sys.mac.hardware</td>\n",
       "      <td>4</td>\n",
       "      <td>ebodin pearl tufts screen death mac plus 512 o...</td>\n",
       "    </tr>\n",
       "    <tr>\n",
       "      <th>409</th>\n",
       "      <td>sci.electronics_53973</td>\n",
       "      <td>sci.electronics</td>\n",
       "      <td>12</td>\n",
       "      <td>rgc3679 bcstec ca boeing robert g carpenter ra...</td>\n",
       "    </tr>\n",
       "    <tr>\n",
       "      <th>11847</th>\n",
       "      <td>rec.autos_101674</td>\n",
       "      <td>rec.autos</td>\n",
       "      <td>7</td>\n",
       "      <td>celeste express freedom msfc nasa gov celeste ...</td>\n",
       "    </tr>\n",
       "    <tr>\n",
       "      <th>16313</th>\n",
       "      <td>sci.crypt_15719</td>\n",
       "      <td>sci.crypt</td>\n",
       "      <td>11</td>\n",
       "      <td>smb research att steven bellovin new reason cl...</td>\n",
       "    </tr>\n",
       "  </tbody>\n",
       "</table>\n",
       "</div>"
      ],
      "text/plain": [
       "                        identifier                  class  class_number  \\\n",
       "2571               sci.space_60960              sci.space            14   \n",
       "3143   comp.sys.mac.hardware_51712  comp.sys.mac.hardware             4   \n",
       "409          sci.electronics_53973        sci.electronics            12   \n",
       "11847             rec.autos_101674              rec.autos             7   \n",
       "16313              sci.crypt_15719              sci.crypt            11   \n",
       "\n",
       "                                                    text  \n",
       "2571   jgreen trumpet calpoly james thomas green keep...  \n",
       "3143   ebodin pearl tufts screen death mac plus 512 o...  \n",
       "409    rgc3679 bcstec ca boeing robert g carpenter ra...  \n",
       "11847  celeste express freedom msfc nasa gov celeste ...  \n",
       "16313  smb research att steven bellovin new reason cl...  "
      ]
     },
     "execution_count": 2,
     "metadata": {},
     "output_type": "execute_result"
    }
   ],
   "source": [
    "# Read dataset, clean dataset and create a pandas dataframe of the dataset.\n",
    "dataset = utils.read_datasets('GraphOfDocs/data/20news-18828-all/')\n",
    "le = LabelEncoder()\n",
    "le.fit([file[0].split('_')[0] for file in dataset])\n",
    "# Tuple: file identifier, file class, file class number, file text\n",
    "clean_dataset = [(file[0], file[0].split('_')[0], le.transform([file[0].split('_')[0]])[0], ' '.join([token for token in utils.generate_words(file[1], remove_stopwords=True, lemmatize=False, stemming=False) if token != 'e5'])) for file in dataset]\n",
    "df = pd.DataFrame(clean_dataset, columns=['identifier', 'class', 'class_number', 'text'])\n",
    "df = shuffle(df, random_state=42)\n",
    "df.head()"
   ]
  },
  {
   "cell_type": "code",
   "execution_count": 3,
   "metadata": {},
   "outputs": [],
   "source": [
    "X = df['text']\n",
    "y = df['class_number']"
   ]
  },
  {
   "cell_type": "markdown",
   "metadata": {},
   "source": [
    "## Run experiments with bag-of-words and widely-used classifiers."
   ]
  },
  {
   "cell_type": "code",
   "execution_count": 4,
   "metadata": {},
   "outputs": [
    {
     "name": "stdout",
     "output_type": "stream",
     "text": [
      "Train size 12614\n",
      "Test size 6214\n",
      "Number of features 169617\n"
     ]
    }
   ],
   "source": [
    "cv = CountVectorizer()\n",
    "# bag-of-words\n",
    "X_transformed = cv.fit_transform(X)\n",
    "\n",
    "X_train, X_test, y_train, y_test = train_test_split(X_transformed, y, test_size=0.33, random_state=42)\n",
    "print('Train size %s' % X_train.shape[0])\n",
    "print('Test size %s' % X_test.shape[0])\n",
    "print('Number of features %s' % X_test.shape[1])"
   ]
  },
  {
   "cell_type": "code",
   "execution_count": 5,
   "metadata": {},
   "outputs": [
    {
     "name": "stdout",
     "output_type": "stream",
     "text": [
      "Naive bayes\n",
      "0.8604763437399421\n",
      "Logistic Regression\n"
     ]
    },
    {
     "name": "stderr",
     "output_type": "stream",
     "text": [
      "/home/nkanak/.local/lib/python3.6/site-packages/sklearn/linear_model/_logistic.py:939: ConvergenceWarning: lbfgs failed to converge (status=1):\n",
      "STOP: TOTAL NO. of ITERATIONS REACHED LIMIT.\n",
      "\n",
      "Increase the number of iterations (max_iter) or scale the data as shown in:\n",
      "    https://scikit-learn.org/stable/modules/preprocessing.html.\n",
      "Please also refer to the documentation for alternative solver options:\n",
      "    https://scikit-learn.org/stable/modules/linear_model.html#logistic-regression\n",
      "  extra_warning_msg=_LOGISTIC_SOLVER_CONVERGENCE_MSG)\n"
     ]
    },
    {
     "name": "stdout",
     "output_type": "stream",
     "text": [
      "0.8925008046346958\n",
      "5-NN\n",
      "0.48567750241390406\n",
      "2-NN\n",
      "0.4908271644673318\n",
      "1-NN\n",
      "0.6076601223044737\n"
     ]
    }
   ],
   "source": [
    "bag_of_words_classifiers = [\n",
    "    ('Naive bayes', MultinomialNB()),\n",
    "    ('Logistic Regression', LogisticRegression(random_state=0, solver='lbfgs', multi_class='multinomial')),\n",
    "    ('5-NN', KNeighborsClassifier(n_neighbors=5)),\n",
    "    ('2-NN', KNeighborsClassifier(n_neighbors=2)),\n",
    "    ('1-NN', KNeighborsClassifier(n_neighbors=1)),\n",
    "    #('Neural Network 500x250', MLPClassifier(solver='adam', hidden_layer_sizes=(500, 250), random_state=42)),\n",
    "    #('Neural Network 1000x500', MLPClassifier(solver='adam', hidden_layer_sizes=(1000, 500), random_state=42)),\n",
    "]\n",
    "\n",
    "for classifier in bag_of_words_classifiers:\n",
    "    print(classifier[0])\n",
    "    clf = classifier[1]\n",
    "    clf.fit(X_train, y_train)\n",
    "    print(clf.score(X_test, y_test))"
   ]
  },
  {
   "cell_type": "markdown",
   "metadata": {},
   "source": [
    "## Run experiments with bag-of-words, feature selection and widely-used classifiers."
   ]
  },
  {
   "cell_type": "markdown",
   "metadata": {},
   "source": [
    "## Run experiments with graph-of-words."
   ]
  },
  {
   "cell_type": "code",
   "execution_count": null,
   "metadata": {},
   "outputs": [],
   "source": []
  }
 ],
 "metadata": {
  "kernelspec": {
   "display_name": "Python 3",
   "language": "python",
   "name": "python3"
  },
  "language_info": {
   "codemirror_mode": {
    "name": "ipython",
    "version": 3
   },
   "file_extension": ".py",
   "mimetype": "text/x-python",
   "name": "python",
   "nbconvert_exporter": "python",
   "pygments_lexer": "ipython3",
   "version": "3.6.9"
  }
 },
 "nbformat": 4,
 "nbformat_minor": 2
}
