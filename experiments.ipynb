{
 "cells": [
  {
   "cell_type": "markdown",
   "metadata": {},
   "source": [
    "# Graph of Docs"
   ]
  },
  {
   "cell_type": "code",
   "execution_count": 1,
   "metadata": {},
   "outputs": [],
   "source": [
    "import pandas as pd\n",
    "from sklearn.model_selection import train_test_split\n",
    "from sklearn.feature_extraction.text import CountVectorizer\n",
    "from sklearn.preprocessing import LabelEncoder\n",
    "from sklearn.utils import shuffle\n",
    "\n",
    "from sklearn.naive_bayes import MultinomialNB\n",
    "from sklearn.linear_model import LogisticRegression\n",
    "from sklearn.neural_network import MLPClassifier\n",
    "from sklearn.neighbors import KNeighborsClassifier\n",
    "from sklearn.svm import LinearSVC\n",
    "from sklearn.linear_model import RidgeClassifier\n",
    "from sklearn.ensemble import AdaBoostClassifier\n",
    "from sklearn.ensemble import GradientBoostingClassifier\n",
    "\n",
    "from sklearn.feature_selection import VarianceThreshold\n",
    "from sklearn.feature_selection import SelectKBest\n",
    "from sklearn.feature_selection import chi2\n",
    "from sklearn.feature_selection import SelectFromModel\n",
    "\n",
    "from GraphOfDocs import utils\n",
    "\n",
    "%matplotlib inline"
   ]
  },
  {
   "cell_type": "code",
   "execution_count": 2,
   "metadata": {},
   "outputs": [
    {
     "data": {
      "text/html": [
       "<div>\n",
       "<style scoped>\n",
       "    .dataframe tbody tr th:only-of-type {\n",
       "        vertical-align: middle;\n",
       "    }\n",
       "\n",
       "    .dataframe tbody tr th {\n",
       "        vertical-align: top;\n",
       "    }\n",
       "\n",
       "    .dataframe thead th {\n",
       "        text-align: right;\n",
       "    }\n",
       "</style>\n",
       "<table border=\"1\" class=\"dataframe\">\n",
       "  <thead>\n",
       "    <tr style=\"text-align: right;\">\n",
       "      <th></th>\n",
       "      <th>identifier</th>\n",
       "      <th>class</th>\n",
       "      <th>class_number</th>\n",
       "      <th>text</th>\n",
       "    </tr>\n",
       "  </thead>\n",
       "  <tbody>\n",
       "    <tr>\n",
       "      <th>2571</th>\n",
       "      <td>sci.space_60960</td>\n",
       "      <td>sci.space</td>\n",
       "      <td>14</td>\n",
       "      <td>jgreen trumpet calpoly james thomas green keep...</td>\n",
       "    </tr>\n",
       "    <tr>\n",
       "      <th>3143</th>\n",
       "      <td>comp.sys.mac.hardware_51712</td>\n",
       "      <td>comp.sys.mac.hardware</td>\n",
       "      <td>4</td>\n",
       "      <td>ebodin pearl tufts screen death mac plus 512 o...</td>\n",
       "    </tr>\n",
       "  </tbody>\n",
       "</table>\n",
       "</div>"
      ],
      "text/plain": [
       "                       identifier                  class  class_number  \\\n",
       "2571              sci.space_60960              sci.space            14   \n",
       "3143  comp.sys.mac.hardware_51712  comp.sys.mac.hardware             4   \n",
       "\n",
       "                                                   text  \n",
       "2571  jgreen trumpet calpoly james thomas green keep...  \n",
       "3143  ebodin pearl tufts screen death mac plus 512 o...  "
      ]
     },
     "execution_count": 2,
     "metadata": {},
     "output_type": "execute_result"
    }
   ],
   "source": [
    "# Read dataset, clean dataset and create a pandas dataframe of the dataset.\n",
    "dataset = utils.read_datasets('GraphOfDocs/data/20news-18828-all/')\n",
    "le = LabelEncoder()\n",
    "# The class of each document can be found by simply split (character '_') its filename. E.g. comp.sys.mac.hardware_51712.\n",
    "le.fit([file[0].split('_')[0] for file in dataset])\n",
    "# Tuple: file identifier, file class, file class number, file text\n",
    "clean_dataset = [(file[0], file[0].split('_')[0], le.transform([file[0].split('_')[0]])[0], ' '.join(utils.generate_words(file[1], extend_window=True, remove_stopwords=True, lemmatize=False, stemming=False))) for file in dataset]\n",
    "df = pd.DataFrame(clean_dataset, columns=['identifier', 'class', 'class_number', 'text'])\n",
    "df = shuffle(df, random_state=42)\n",
    "df.head(2)"
   ]
  },
  {
   "cell_type": "code",
   "execution_count": 3,
   "metadata": {},
   "outputs": [],
   "source": [
    "X = df['text']\n",
    "y = df['class_number']"
   ]
  },
  {
   "cell_type": "code",
   "execution_count": 4,
   "metadata": {},
   "outputs": [],
   "source": [
    "def benchmark_classifier(clf, X_train, y_train, X_test, y_test):\n",
    "    clf.fit(X_train, y_train)\n",
    "    print(clf.score(X_test, y_test))\n",
    "    return clf"
   ]
  },
  {
   "cell_type": "markdown",
   "metadata": {},
   "source": [
    "## Running experiments with bag-of-words and widely-used classifiers."
   ]
  },
  {
   "cell_type": "code",
   "execution_count": 5,
   "metadata": {},
   "outputs": [
    {
     "name": "stdout",
     "output_type": "stream",
     "text": [
      "Train size 12614\n",
      "Test size 6214\n",
      "Number of features 169616\n"
     ]
    }
   ],
   "source": [
    "cv = CountVectorizer()\n",
    "# bag-of-words\n",
    "X_transformed = cv.fit_transform(X)\n",
    "\n",
    "X_train, X_test, y_train, y_test = train_test_split(X_transformed, y, test_size=0.33, random_state=42)\n",
    "print('Train size %s' % X_train.shape[0])\n",
    "print('Test size %s' % X_test.shape[0])\n",
    "print('Number of features %s' % X_test.shape[1])"
   ]
  },
  {
   "cell_type": "code",
   "execution_count": 6,
   "metadata": {},
   "outputs": [
    {
     "name": "stdout",
     "output_type": "stream",
     "text": [
      "Naive Bayes 0.8604763437399421\n",
      "Logistic Regression 0.892018023817187\n",
      "5-NN 0.48728677180560026\n",
      "2-NN 0.4914708722240103\n",
      "1-NN 0.607981976182813\n",
      "Neural Network 500x250 0.9137431606050853\n",
      "Neural Network 1000x500 0.9076279369166399\n"
     ]
    }
   ],
   "source": [
    "bag_of_words_classifiers = [\n",
    "    #('Naive Bayes', MultinomialNB()),\n",
    "    #('Logistic Regression', LogisticRegression(random_state=0, solver='lbfgs', multi_class='multinomial')),\n",
    "    #('5-NN', KNeighborsClassifier(n_neighbors=5)),\n",
    "    #('2-NN', KNeighborsClassifier(n_neighbors=2)),\n",
    "    #('1-NN', KNeighborsClassifier(n_neighbors=1)),\n",
    "    #('Neural Network 100x50', MLPClassifier(solver='adam', hidden_layer_sizes=(100, 50), random_state=42)),\n",
    "    #('Neural Network 500x250', MLPClassifier(solver='adam', hidden_layer_sizes=(500, 250), random_state=42)),\n",
    "    #('Neural Network 1000x500', MLPClassifier(solver='adam', hidden_layer_sizes=(1000, 500), random_state=42)),\n",
    "]\n",
    "\n",
    "for classifier in bag_of_words_classifiers:\n",
    "    print(classifier[0])\n",
    "    benchmark_classifier(classifier[1], X_train, y_train, X_test, y_test)\n",
    "\n",
    "print('Naive Bayes 0.8604763437399421')\n",
    "print('Logistic Regression 0.892018023817187')\n",
    "print('5-NN 0.48728677180560026')\n",
    "print('2-NN 0.4914708722240103')\n",
    "print('1-NN 0.607981976182813')\n",
    "print('Neural Network 500x250 0.9137431606050853')\n",
    "print('Neural Network 1000x500 0.9076279369166399')"
   ]
  },
  {
   "cell_type": "markdown",
   "metadata": {},
   "source": [
    "## Running experiments with bag-of-words, feature selection and widely-used classifiers."
   ]
  },
  {
   "cell_type": "markdown",
   "metadata": {},
   "source": [
    "### Performing feature selection using interpretable models."
   ]
  },
  {
   "cell_type": "markdown",
   "metadata": {},
   "source": [
    "#### Deciding which is the best model to use as feature selector (LinearSVC vs RidgeClassifier vs AdaBoostClassifier)."
   ]
  },
  {
   "cell_type": "code",
   "execution_count": 7,
   "metadata": {},
   "outputs": [
    {
     "name": "stdout",
     "output_type": "stream",
     "text": [
      "LinearSVC 0.8896041197296427\n",
      "RidgeClassifier 0.8606372706791117\n",
      "AdaBoostClassifier 0.5413582233665916\n"
     ]
    }
   ],
   "source": [
    "#benchmark_classifier(LinearSVC(), X_train, y_train, X_test, y_test)\n",
    "#benchmark_classifier(RidgeClassifier(), X_train, y_train, X_test, y_test)\n",
    "#benchmark_classifier(AdaBoostClassifier(), X_train, y_train, X_test, y_test)\n",
    "\n",
    "# best LinearSVC\n",
    "print('LinearSVC 0.8896041197296427')\n",
    "print('RidgeClassifier 0.8606372706791117')\n",
    "print('AdaBoostClassifier 0.5413582233665916')"
   ]
  },
  {
   "cell_type": "code",
   "execution_count": 8,
   "metadata": {},
   "outputs": [
    {
     "name": "stderr",
     "output_type": "stream",
     "text": [
      "/home/nkanak/.local/lib/python3.6/site-packages/sklearn/svm/_base.py:947: ConvergenceWarning: Liblinear failed to converge, increase the number of iterations.\n",
      "  \"the number of iterations.\", ConvergenceWarning)\n"
     ]
    }
   ],
   "source": [
    "selected_features = SelectFromModel(estimator=LinearSVC()).fit_transform(X_transformed, y)"
   ]
  },
  {
   "cell_type": "code",
   "execution_count": 9,
   "metadata": {},
   "outputs": [
    {
     "name": "stdout",
     "output_type": "stream",
     "text": [
      "Train size 12614\n",
      "Test size 6214\n",
      "Number of features 32496\n"
     ]
    }
   ],
   "source": [
    "X_selected_train, X_selected_test, y_selected_train, y_selected_test = train_test_split(selected_features, y, test_size=0.33, random_state=42)\n",
    "print('Train size %s' % X_selected_train.shape[0])\n",
    "print('Test size %s' % X_selected_test.shape[0])\n",
    "print('Number of features %s' % X_selected_test.shape[1])"
   ]
  },
  {
   "cell_type": "code",
   "execution_count": 10,
   "metadata": {},
   "outputs": [
    {
     "name": "stdout",
     "output_type": "stream",
     "text": [
      "Naive Bayes 0.8706147409076279\n",
      "Logistic Regression 0.8944319279047312\n",
      "5-NN 0.505471515931767\n",
      "2-NN 0.5125523012552301\n",
      "1-NN 0.6226263276472481\n",
      "Neural Network 100x50 0.9159961377534599\n",
      "Neural Network 500x250 \n",
      "Neural Network 1000x500 \n"
     ]
    }
   ],
   "source": [
    "bag_of_words_selected_classifiers = [\n",
    "    #('Naive Bayes', MultinomialNB()),\n",
    "    #('Logistic Regression', LogisticRegression(random_state=0, solver='lbfgs', multi_class='multinomial')),\n",
    "    #('5-NN', KNeighborsClassifier(n_neighbors=5)),\n",
    "    #('2-NN', KNeighborsClassifier(n_neighbors=2)),\n",
    "    #('1-NN', KNeighborsClassifier(n_neighbors=1)),\n",
    "    #('Neural Network 100x50', MLPClassifier(solver='adam', hidden_layer_sizes=(100, 50), random_state=42)),\n",
    "    #('Neural Network 500x250', MLPClassifier(solver='adam', hidden_layer_sizes=(500, 250), random_state=42)),\n",
    "    #('Neural Network 1000x500', MLPClassifier(solver='adam', hidden_layer_sizes=(1000, 500), random_state=42)),\n",
    "]\n",
    "\n",
    "for classifier in bag_of_words_selected_classifiers:\n",
    "    print(classifier[0])\n",
    "    benchmark_classifier(classifier[1], X_selected_train, y_selected_train, X_selected_test, y_selected_test)\n",
    "\n",
    "print('Naive Bayes 0.8706147409076279')\n",
    "print('Logistic Regression 0.8944319279047312')\n",
    "print('5-NN 0.505471515931767')\n",
    "print('2-NN 0.5125523012552301')\n",
    "print('1-NN 0.6226263276472481')\n",
    "print('Neural Network 100x50 0.9159961377534599')\n",
    "print('Neural Network 500x250 ')\n",
    "print('Neural Network 1000x500 ')"
   ]
  },
  {
   "cell_type": "markdown",
   "metadata": {},
   "source": [
    "### Performing feature selection by removing features with low variance."
   ]
  },
  {
   "cell_type": "code",
   "execution_count": 33,
   "metadata": {},
   "outputs": [],
   "source": [
    "sel = VarianceThreshold(threshold=0.8)"
   ]
  },
  {
   "cell_type": "code",
   "execution_count": 34,
   "metadata": {},
   "outputs": [
    {
     "name": "stdout",
     "output_type": "stream",
     "text": [
      "Train size 12614\n",
      "Test size 6214\n",
      "Number of features 106\n"
     ]
    }
   ],
   "source": [
    "selected_variance_features = sel.fit_transform(X_transformed)\n",
    "X_selected_variance_train, X_selected_variance_test, y_selected_variance_train, y_selected_variance_test = train_test_split(selected_variance_features, y, test_size=0.33, random_state=42)\n",
    "print('Train size %s' % X_selected_variance_train.shape[0])\n",
    "print('Test size %s' % X_selected_variance_test.shape[0])\n",
    "print('Number of features %s' % X_selected_variance_test.shape[1])"
   ]
  },
  {
   "cell_type": "code",
   "execution_count": 35,
   "metadata": {},
   "outputs": [
    {
     "name": "stdout",
     "output_type": "stream",
     "text": [
      "Naive Bayes\n",
      "0.33118764081107177\n"
     ]
    }
   ],
   "source": [
    "bag_of_words_selected_variance_classifiers = [\n",
    "    ('Naive Bayes', MultinomialNB()),\n",
    "    #('Logistic Regression', LogisticRegression(random_state=0, solver='lbfgs', multi_class='multinomial')),\n",
    "    #('5-NN', KNeighborsClassifier(n_neighbors=5)),\n",
    "    #('2-NN', KNeighborsClassifier(n_neighbors=2)),\n",
    "    #('1-NN', KNeighborsClassifier(n_neighbors=1)),\n",
    "    #('Neural Network 100x50', MLPClassifier(solver='adam', hidden_layer_sizes=(100, 50), random_state=42)),\n",
    "    #('Neural Network 500x250', MLPClassifier(solver='adam', hidden_layer_sizes=(500, 250), random_state=42)),\n",
    "    #('Neural Network 1000x500', MLPClassifier(solver='adam', hidden_layer_sizes=(1000, 500), random_state=42)),\n",
    "]\n",
    "\n",
    "for classifier in bag_of_words_selected_variance_classifiers:\n",
    "    print(classifier[0])\n",
    "    benchmark_classifier(classifier[1], X_selected_variance_train, y_selected_variance_train, X_selected_variance_test, y_selected_variance_test)"
   ]
  },
  {
   "cell_type": "markdown",
   "metadata": {},
   "source": [
    "## Running experiments with graph-of-words."
   ]
  },
  {
   "cell_type": "code",
   "execution_count": null,
   "metadata": {},
   "outputs": [],
   "source": []
  },
  {
   "cell_type": "markdown",
   "metadata": {},
   "source": [
    "## Running experiments with graph-of-docs."
   ]
  },
  {
   "cell_type": "code",
   "execution_count": null,
   "metadata": {},
   "outputs": [],
   "source": []
  },
  {
   "cell_type": "markdown",
   "metadata": {},
   "source": [
    "## Discussion"
   ]
  },
  {
   "cell_type": "code",
   "execution_count": null,
   "metadata": {},
   "outputs": [],
   "source": []
  }
 ],
 "metadata": {
  "kernelspec": {
   "display_name": "Python 3",
   "language": "python",
   "name": "python3"
  },
  "language_info": {
   "codemirror_mode": {
    "name": "ipython",
    "version": 3
   },
   "file_extension": ".py",
   "mimetype": "text/x-python",
   "name": "python",
   "nbconvert_exporter": "python",
   "pygments_lexer": "ipython3",
   "version": "3.6.9"
  }
 },
 "nbformat": 4,
 "nbformat_minor": 2
}
