{
 "cells": [
  {
   "cell_type": "markdown",
   "metadata": {},
   "source": [
    "# Graph of Docs"
   ]
  },
  {
   "cell_type": "code",
   "execution_count": null,
   "metadata": {},
   "outputs": [],
   "source": [
    "import pandas as pd\n",
    "from sklearn.model_selection import train_test_split\n",
    "from sklearn.feature_extraction.text import CountVectorizer\n",
    "from sklearn.preprocessing import LabelEncoder\n",
    "from sklearn.utils import shuffle\n",
    "from sklearn.metrics import accuracy_score\n",
    "\n",
    "from sklearn.naive_bayes import MultinomialNB\n",
    "from sklearn.linear_model import LogisticRegression\n",
    "from sklearn.neural_network import MLPClassifier\n",
    "from sklearn.neighbors import KNeighborsClassifier\n",
    "\n",
    "from sklearn.svm import LinearSVC\n",
    "from sklearn.linear_model import RidgeClassifier\n",
    "from sklearn.ensemble import AdaBoostClassifier\n",
    "from sklearn.ensemble import GradientBoostingClassifier\n",
    "from sklearn.feature_selection import VarianceThreshold\n",
    "from sklearn.feature_selection import SelectKBest\n",
    "from sklearn.feature_selection import chi2\n",
    "from sklearn.feature_selection import SelectFromModel\n",
    "\n",
    "from GraphOfDocs import utils\n",
    "from GraphOfDocs import select\n",
    "from GraphOfDocs.neo4j_wrapper import Neo4jDatabase\n",
    "\n",
    "from collections import Counter\n",
    "\n",
    "%matplotlib inline"
   ]
  },
  {
   "cell_type": "code",
   "execution_count": null,
   "metadata": {},
   "outputs": [],
   "source": [
    "database = Neo4jDatabase('bolt://localhost:7687', 'neo4j', '123')"
   ]
  },
  {
   "cell_type": "code",
   "execution_count": null,
   "metadata": {},
   "outputs": [],
   "source": [
    "doc_communities = select.get_document_communities(database)\n",
    "filtered_doc_communities = [doc_community for doc_community in doc_communities if doc_community[2] > 1]\n",
    "selected_docs = sum([docs for _, docs, _ in filtered_doc_communities], [])\n",
    "doc_communities_dict = {community_id: docs for community_id, docs, number_of_docs in filtered_doc_communities}\n",
    "doc_to_community_dict = {doc: community_id for community_id, doc_community, _ in filtered_doc_communities for doc in doc_community}"
   ]
  },
  {
   "cell_type": "code",
   "execution_count": null,
   "metadata": {},
   "outputs": [],
   "source": [
    "len(selected_docs)"
   ]
  },
  {
   "cell_type": "code",
   "execution_count": null,
   "metadata": {},
   "outputs": [],
   "source": [
    "# Read dataset, clean dataset and create a pandas dataframe of the dataset.\n",
    "dataset = utils.read_dataset('/home/nkanak/Desktop/phd/experiments/GraphOfDocs/GraphOfDocs/data/20news-18828-all/')\n",
    "le = LabelEncoder()\n",
    "# The class of each document can be found by simply split (character '_') its filename. E.g. comp.sys.mac.hardware_51712.\n",
    "le.fit([file[0].split('_')[0] for file in dataset])\n",
    "# Tuple: file identifier, file class, file class number, file text\n",
    "clean_dataset = [(file[0], file[0].split('_')[0], le.transform([file[0].split('_')[0]])[0], ' '.join(utils.generate_words(file[1], extend_window=True, insert_stopwords=False, lemmatize=False, stem=False))) for file in dataset]\n",
    "df = pd.DataFrame(clean_dataset, columns=['identifier', 'class', 'class_number', 'text'])\n",
    "df_all = df\n",
    "\n",
    "#df_not_selected = df[~df['identifier'].isin(selected_docs)]\n",
    "df = df[df['identifier'].isin(selected_docs)]\n",
    "\n",
    "#df_not_selected = shuffle(df_not_selected, random_state=42)\n",
    "df = shuffle(df, random_state=42)\n",
    "df.head(2)"
   ]
  },
  {
   "cell_type": "code",
   "execution_count": null,
   "metadata": {},
   "outputs": [],
   "source": [
    "# Number of unique classes\n",
    "le.classes_.shape"
   ]
  },
  {
   "cell_type": "code",
   "execution_count": null,
   "metadata": {},
   "outputs": [],
   "source": [
    "X = df['text']\n",
    "y = df['class_number']"
   ]
  },
  {
   "cell_type": "code",
   "execution_count": null,
   "metadata": {},
   "outputs": [],
   "source": [
    "def benchmark_classifier(clf, X_train, y_train, X_test, y_test):\n",
    "    clf.fit(X_train, y_train)\n",
    "    y_pred = clf.predict(X_test)\n",
    "    print(accuracy_score(y_test, y_pred))\n",
    "    return clf"
   ]
  },
  {
   "cell_type": "markdown",
   "metadata": {},
   "source": [
    "## Running experiments with bag-of-words and widely-used classifiers."
   ]
  },
  {
   "cell_type": "code",
   "execution_count": null,
   "metadata": {},
   "outputs": [],
   "source": [
    "positions = [i for i in range(len(X))]"
   ]
  },
  {
   "cell_type": "code",
   "execution_count": null,
   "metadata": {},
   "outputs": [],
   "source": [
    "cv = CountVectorizer()\n",
    "# bag-of-words\n",
    "X_transformed = cv.fit_transform(X)\n",
    "\n",
    "X_train, X_test, y_train, y_test, positions_train, positions_test = train_test_split(X_transformed, y, positions, test_size=0.33, random_state=42)\n",
    "print('Train size %s' % X_train.shape[0])\n",
    "print('Test size %s' % X_test.shape[0])\n",
    "print('Number of features %s' % X_test.shape[1])"
   ]
  },
  {
   "cell_type": "code",
   "execution_count": null,
   "metadata": {},
   "outputs": [],
   "source": [
    "bag_of_words_classifiers = [\n",
    "    ('Naive Bayes', MultinomialNB()),\n",
    "    ('Logistic Regression', LogisticRegression(random_state=0, solver='lbfgs', multi_class='multinomial')),\n",
    "    ('5-NN', KNeighborsClassifier(n_neighbors=5, weights='distance')),\n",
    "    ('2-NN', KNeighborsClassifier(n_neighbors=2, weights='distance')),\n",
    "    ('1-NN', KNeighborsClassifier(n_neighbors=1, weights='distance')),\n",
    "    ('Linear SVM', LinearSVC()),\n",
    "    #('Neural Network 100x50', MLPClassifier(solver='adam', hidden_layer_sizes=(100, 50), random_state=42)),\n",
    "    #('Neural Network 500x250', MLPClassifier(solver='adam', hidden_layer_sizes=(500, 250), random_state=42)),\n",
    "    #('Neural Network 1000x500', MLPClassifier(solver='adam', hidden_layer_sizes=(1000, 500), random_state=42)),\n",
    "]"
   ]
  },
  {
   "cell_type": "code",
   "execution_count": null,
   "metadata": {},
   "outputs": [],
   "source": [
    "for classifier in bag_of_words_classifiers:\n",
    "    print(classifier[0])\n",
    "    benchmark_classifier(classifier[1], X_train, y_train, X_test, y_test)"
   ]
  },
  {
   "cell_type": "markdown",
   "metadata": {},
   "source": [
    "## Feature selection using classical methods"
   ]
  },
  {
   "cell_type": "markdown",
   "metadata": {},
   "source": [
    "### Feature selection based on importance weights using a meta-transformer model"
   ]
  },
  {
   "cell_type": "code",
   "execution_count": null,
   "metadata": {},
   "outputs": [],
   "source": [
    "selector = SelectFromModel(estimator=LinearSVC()).fit(X_train, y_train)\n",
    "X_selected_transformed = selector.transform(X_transformed)\n",
    "X_selected_train, X_selected_test, y_selected_train, y_selected_test = train_test_split(X_selected_transformed, y, test_size=0.33, random_state=42)\n",
    "print('Train size %s' % X_selected_train.shape[0])\n",
    "print('Test size %s' % X_selected_test.shape[0])\n",
    "print('Number of features %s' % X_selected_test.shape[1])"
   ]
  },
  {
   "cell_type": "code",
   "execution_count": null,
   "metadata": {},
   "outputs": [],
   "source": [
    "for classifier in bag_of_words_classifiers:\n",
    "    print(classifier[0])\n",
    "    benchmark_classifier(classifier[1], X_selected_train, y_selected_train, X_selected_test, y_selected_test)"
   ]
  },
  {
   "cell_type": "markdown",
   "metadata": {},
   "source": [
    "### Performing feature selection by removing features with low variance."
   ]
  },
  {
   "cell_type": "code",
   "execution_count": null,
   "metadata": {},
   "outputs": [],
   "source": [
    "variance_selector = VarianceThreshold(threshold=0.001).fit(X_train)"
   ]
  },
  {
   "cell_type": "code",
   "execution_count": null,
   "metadata": {},
   "outputs": [],
   "source": [
    "variance_X_transformed = variance_selector.transform(X_transformed)\n",
    "X_selected_variance_train, X_selected_variance_test, y_selected_variance_train, y_selected_variance_test = train_test_split(variance_X_transformed, y, test_size=0.33, random_state=42)\n",
    "print('Train size %s' % X_selected_variance_train.shape[0])\n",
    "print('Test size %s' % X_selected_variance_test.shape[0])\n",
    "print('Number of features %s' % X_selected_variance_test.shape[1])"
   ]
  },
  {
   "cell_type": "code",
   "execution_count": null,
   "metadata": {},
   "outputs": [],
   "source": [
    "for classifier in bag_of_words_classifiers:\n",
    "    print(classifier[0])\n",
    "    benchmark_classifier(classifier[1], X_selected_variance_train, y_selected_variance_train, X_selected_variance_test, y_selected_variance_test)"
   ]
  },
  {
   "cell_type": "markdown",
   "metadata": {},
   "source": [
    "### Feature selection by selecting the best features based on univariate statistical tests (Kbest features)"
   ]
  },
  {
   "cell_type": "code",
   "execution_count": null,
   "metadata": {},
   "outputs": [],
   "source": [
    "kbest_selector = SelectKBest(chi2, k=20000).fit(X_train, y_train)"
   ]
  },
  {
   "cell_type": "code",
   "execution_count": null,
   "metadata": {},
   "outputs": [],
   "source": [
    "kbest_X_transformed = kbest_selector.transform(X_transformed)\n",
    "X_kbest_train, X_kbest_test, y_kbest_train, y_kbest_test = train_test_split(kbest_X_transformed, y, test_size=0.33, random_state=42)\n",
    "print('Train size %s' % X_kbest_train.shape[0])\n",
    "print('Test size %s' % X_kbest_test.shape[0])\n",
    "print('Number of features %s' % X_kbest_test.shape[1])"
   ]
  },
  {
   "cell_type": "code",
   "execution_count": null,
   "metadata": {},
   "outputs": [],
   "source": [
    "for classifier in bag_of_words_classifiers:\n",
    "    print(classifier[0])\n",
    "    benchmark_classifier(classifier[1], X_kbest_train, y_kbest_train, X_kbest_test, y_kbest_test)"
   ]
  },
  {
   "cell_type": "markdown",
   "metadata": {},
   "source": [
    "### Bigrams generation using the comman way"
   ]
  },
  {
   "cell_type": "code",
   "execution_count": null,
   "metadata": {},
   "outputs": [],
   "source": []
  },
  {
   "cell_type": "markdown",
   "metadata": {},
   "source": [
    "## Running experiments with graph-of-docs."
   ]
  },
  {
   "cell_type": "markdown",
   "metadata": {},
   "source": [
    "### Graph-of-docs classifier"
   ]
  },
  {
   "cell_type": "code",
   "execution_count": null,
   "metadata": {},
   "outputs": [],
   "source": [
    "_, test_docs = train_test_split(df['identifier'], test_size=0.33, random_state=42)\n",
    "test_docs = list(test_docs)"
   ]
  },
  {
   "cell_type": "code",
   "execution_count": null,
   "metadata": {},
   "outputs": [],
   "source": [
    "class_true = []\n",
    "class_pred = []\n",
    "for test_doc in test_docs:\n",
    "    community_id = doc_to_community_dict[test_doc]\n",
    "    community_docs = doc_communities_dict[community_id]\n",
    "    classes = [doc.split('_')[0] for doc in community_docs if doc != test_doc]\n",
    "    \n",
    "    correct_class = test_doc.split('_')[0]\n",
    "    classified_class = Counter(classes).most_common(1)[0][0]\n",
    "    class_true.append(correct_class)\n",
    "    class_pred.append(classified_class)\n",
    "print('Accuracy: %s' % (accuracy_score(class_true, class_pred)))\n",
    "# accuracy: 0.9752087682672234"
   ]
  },
  {
   "cell_type": "markdown",
   "metadata": {},
   "source": [
    "## Feature selection using graph-of-docs"
   ]
  },
  {
   "cell_type": "markdown",
   "metadata": {},
   "source": [
    "### Create a vocabulary with the TOP N words of each community of docs"
   ]
  },
  {
   "cell_type": "code",
   "execution_count": null,
   "metadata": {},
   "outputs": [],
   "source": [
    "train_docs = list(df.iloc[positions_train]['identifier'])"
   ]
  },
  {
   "cell_type": "code",
   "execution_count": null,
   "metadata": {},
   "outputs": [],
   "source": [
    "vocabulary = []\n",
    "for doc in train_docs:\n",
    "    for word in select.get_community_tags(database, doc_to_community_dict[doc], top_terms=250):\n",
    "        vocabulary.append(word)\n",
    "vocabulary = list(set(vocabulary))"
   ]
  },
  {
   "cell_type": "code",
   "execution_count": null,
   "metadata": {},
   "outputs": [],
   "source": [
    "cv = CountVectorizer(vocabulary=vocabulary)\n",
    "# bag-of-words\n",
    "X_transformed = cv.fit_transform(X)\n",
    "\n",
    "X_train, X_test, y_train, y_test = train_test_split(X_transformed, y, test_size=0.33, random_state=42)\n",
    "print('Train size %s' % X_train.shape[0])\n",
    "print('Test size %s' % X_test.shape[0])\n",
    "print('Number of features %s' % X_test.shape[1])"
   ]
  },
  {
   "cell_type": "code",
   "execution_count": null,
   "metadata": {},
   "outputs": [],
   "source": [
    "for classifier in bag_of_words_classifiers:\n",
    "    print(classifier[0])\n",
    "    benchmark_classifier(classifier[1], X_train, y_train, X_test, y_test)"
   ]
  },
  {
   "cell_type": "markdown",
   "metadata": {},
   "source": [
    "### [tag1, tag2, ... tagN] -> class (Do this for each community of docs)"
   ]
  },
  {
   "cell_type": "code",
   "execution_count": null,
   "metadata": {},
   "outputs": [],
   "source": [
    "train_docs = list(df.iloc[positions_train]['identifier'])\n",
    "test_docs = list(df.iloc[positions_test]['identifier'])\n",
    "all_docs = test_docs + train_docs\n",
    "unique_community_ids = list(set([doc_to_community_dict[doc] for doc in train_docs]))"
   ]
  },
  {
   "cell_type": "code",
   "execution_count": null,
   "metadata": {},
   "outputs": [],
   "source": [
    "communities_y = []\n",
    "communities_tags = []\n",
    "for community_id in unique_community_ids:\n",
    "    # Find the most common community class\n",
    "    community_docs = doc_communities_dict[community_id]\n",
    "    classes = [doc.split('_')[0] for doc in community_docs if doc not in test_docs]\n",
    "    classified_class = Counter(classes).most_common(1)[0][0]\n",
    "    communities_y.append(classified_class)\n",
    "    # Get the most important tags of each community.\n",
    "    communities_tags.append(' '.join(select.get_community_tags(database, community_id, top_terms=250)))"
   ]
  },
  {
   "cell_type": "code",
   "execution_count": null,
   "metadata": {},
   "outputs": [],
   "source": [
    "cv = CountVectorizer()\n",
    "X_transformed = cv.fit_transform(communities_tags)\n",
    "\n",
    "print('Number of features %s' % X_transformed.shape[1])\n",
    "communities_y_encoded = le.transform(communities_y)"
   ]
  },
  {
   "cell_type": "code",
   "execution_count": null,
   "metadata": {},
   "outputs": [],
   "source": [
    "X_test_docs = []\n",
    "for doc in list(df[df['identifier'].isin(test_docs)]['text']):\n",
    "    X_test_docs.append(' '.join(list(set(doc.split()))))\n",
    "\n",
    "X_test_docs_transformed = cv.transform(X_test_docs)\n",
    "y_test = list(df[df['identifier'].isin(test_docs)]['class_number'])"
   ]
  },
  {
   "cell_type": "code",
   "execution_count": null,
   "metadata": {},
   "outputs": [],
   "source": [
    "X_transformed.shape"
   ]
  },
  {
   "cell_type": "code",
   "execution_count": null,
   "metadata": {},
   "outputs": [],
   "source": [
    "for classifier in bag_of_words_classifiers:\n",
    "    print(classifier[0])\n",
    "    benchmark_classifier(classifier[1], X_transformed, communities_y_encoded, X_test_docs_transformed, y_test)"
   ]
  },
  {
   "cell_type": "markdown",
   "metadata": {},
   "source": [
    "### Bigrams generation using graph-of-docs"
   ]
  },
  {
   "cell_type": "code",
   "execution_count": null,
   "metadata": {},
   "outputs": [],
   "source": []
  },
  {
   "cell_type": "code",
   "execution_count": null,
   "metadata": {},
   "outputs": [],
   "source": []
  }
 ],
 "metadata": {
  "kernelspec": {
   "display_name": "Python 3",
   "language": "python",
   "name": "python3"
  },
  "language_info": {
   "codemirror_mode": {
    "name": "ipython",
    "version": 3
   },
   "file_extension": ".py",
   "mimetype": "text/x-python",
   "name": "python",
   "nbconvert_exporter": "python",
   "pygments_lexer": "ipython3",
   "version": "3.6.9"
  }
 },
 "nbformat": 4,
 "nbformat_minor": 2
}
