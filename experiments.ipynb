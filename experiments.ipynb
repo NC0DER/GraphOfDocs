{
 "cells": [
  {
   "cell_type": "markdown",
   "metadata": {},
   "source": [
    "# Graph of Docs"
   ]
  },
  {
   "cell_type": "code",
   "execution_count": 1,
   "metadata": {},
   "outputs": [],
   "source": [
    "import pandas as pd\n",
    "from sklearn.model_selection import train_test_split\n",
    "from sklearn.feature_extraction.text import CountVectorizer\n",
    "from sklearn.preprocessing import LabelEncoder\n",
    "from sklearn.utils import shuffle\n",
    "from sklearn.metrics import accuracy_score\n",
    "\n",
    "from sklearn.naive_bayes import MultinomialNB\n",
    "from sklearn.linear_model import LogisticRegression\n",
    "from sklearn.neural_network import MLPClassifier\n",
    "from sklearn.neighbors import KNeighborsClassifier\n",
    "\n",
    "from GraphOfDocs import utils\n",
    "from GraphOfDocs import select\n",
    "from GraphOfDocs.neo4j_wrapper import Neo4jDatabase\n",
    "\n",
    "from collections import Counter\n",
    "\n",
    "%matplotlib inline"
   ]
  },
  {
   "cell_type": "code",
   "execution_count": 2,
   "metadata": {},
   "outputs": [],
   "source": [
    "database = Neo4jDatabase('bolt://localhost:7687', 'neo4j', '123')"
   ]
  },
  {
   "cell_type": "code",
   "execution_count": 3,
   "metadata": {},
   "outputs": [],
   "source": [
    "doc_communities = select.get_document_communities(database)\n",
    "filtered_doc_communities = [doc_community for doc_community in doc_communities if doc_community[2] > 1]\n",
    "selected_docs = sum([docs for _, docs, _ in filtered_doc_communities], [])\n",
    "doc_communities_dict = {community_id: docs for community_id, docs, number_of_docs in filtered_doc_communities}\n",
    "doc_to_community_dict = {doc: community_id for community_id, doc_community, _ in filtered_doc_communities for doc in doc_community}"
   ]
  },
  {
   "cell_type": "code",
   "execution_count": 4,
   "metadata": {},
   "outputs": [
    {
     "data": {
      "text/plain": [
       "11610"
      ]
     },
     "execution_count": 4,
     "metadata": {},
     "output_type": "execute_result"
    }
   ],
   "source": [
    "len(selected_docs)"
   ]
  },
  {
   "cell_type": "code",
   "execution_count": 5,
   "metadata": {},
   "outputs": [
    {
     "data": {
      "text/html": [
       "<div>\n",
       "<style scoped>\n",
       "    .dataframe tbody tr th:only-of-type {\n",
       "        vertical-align: middle;\n",
       "    }\n",
       "\n",
       "    .dataframe tbody tr th {\n",
       "        vertical-align: top;\n",
       "    }\n",
       "\n",
       "    .dataframe thead th {\n",
       "        text-align: right;\n",
       "    }\n",
       "</style>\n",
       "<table border=\"1\" class=\"dataframe\">\n",
       "  <thead>\n",
       "    <tr style=\"text-align: right;\">\n",
       "      <th></th>\n",
       "      <th>identifier</th>\n",
       "      <th>class</th>\n",
       "      <th>class_number</th>\n",
       "      <th>text</th>\n",
       "    </tr>\n",
       "  </thead>\n",
       "  <tbody>\n",
       "    <tr>\n",
       "      <th>11876</th>\n",
       "      <td>rec.autos_102735</td>\n",
       "      <td>rec.autos</td>\n",
       "      <td>7</td>\n",
       "      <td>rdb1 cbnewsj att ronald deblock changing oil s...</td>\n",
       "    </tr>\n",
       "    <tr>\n",
       "      <th>17000</th>\n",
       "      <td>comp.windows.x_68077</td>\n",
       "      <td>comp.windows.x</td>\n",
       "      <td>5</td>\n",
       "      <td>boutilie rtsg mot eric boutilier looking windo...</td>\n",
       "    </tr>\n",
       "  </tbody>\n",
       "</table>\n",
       "</div>"
      ],
      "text/plain": [
       "                 identifier           class  class_number  \\\n",
       "11876      rec.autos_102735       rec.autos             7   \n",
       "17000  comp.windows.x_68077  comp.windows.x             5   \n",
       "\n",
       "                                                    text  \n",
       "11876  rdb1 cbnewsj att ronald deblock changing oil s...  \n",
       "17000  boutilie rtsg mot eric boutilier looking windo...  "
      ]
     },
     "execution_count": 5,
     "metadata": {},
     "output_type": "execute_result"
    }
   ],
   "source": [
    "# Read dataset, clean dataset and create a pandas dataframe of the dataset.\n",
    "dataset = utils.read_dataset('/home/nkanak/Desktop/phd/experiments/GraphOfDocs/GraphOfDocs/data/20news-18828-all/')\n",
    "le = LabelEncoder()\n",
    "# The class of each document can be found by simply split (character '_') its filename. E.g. comp.sys.mac.hardware_51712.\n",
    "le.fit([file[0].split('_')[0] for file in dataset])\n",
    "# Tuple: file identifier, file class, file class number, file text\n",
    "clean_dataset = [(file[0], file[0].split('_')[0], le.transform([file[0].split('_')[0]])[0], ' '.join(utils.generate_words(file[1], extend_window=True, insert_stopwords=False, lemmatize=False, stem=False))) for file in dataset]\n",
    "df = pd.DataFrame(clean_dataset, columns=['identifier', 'class', 'class_number', 'text'])\n",
    "df_all = df\n",
    "\n",
    "#df_not_selected = df[~df['identifier'].isin(selected_docs)]\n",
    "df = df[df['identifier'].isin(selected_docs)]\n",
    "\n",
    "#df_not_selected = shuffle(df_not_selected, random_state=42)\n",
    "df = shuffle(df, random_state=42)\n",
    "df.head(2)"
   ]
  },
  {
   "cell_type": "code",
   "execution_count": 6,
   "metadata": {},
   "outputs": [],
   "source": [
    "X = df['text']\n",
    "y = df['class_number']"
   ]
  },
  {
   "cell_type": "code",
   "execution_count": 7,
   "metadata": {},
   "outputs": [],
   "source": [
    "def benchmark_classifier(clf, X_train, y_train, X_test, y_test):\n",
    "    clf.fit(X_train, y_train)\n",
    "    y_pred = clf.predict(X_test)\n",
    "    print(accuracy_score(y_test, y_pred))\n",
    "    return clf"
   ]
  },
  {
   "cell_type": "markdown",
   "metadata": {},
   "source": [
    "## Running experiments with bag-of-words and widely-used classifiers."
   ]
  },
  {
   "cell_type": "code",
   "execution_count": 8,
   "metadata": {},
   "outputs": [],
   "source": [
    "positions = [i for i in range(len(X))]"
   ]
  },
  {
   "cell_type": "code",
   "execution_count": 9,
   "metadata": {},
   "outputs": [
    {
     "name": "stdout",
     "output_type": "stream",
     "text": [
      "Train size 7778\n",
      "Test size 3832\n",
      "Number of features 71361\n"
     ]
    }
   ],
   "source": [
    "cv = CountVectorizer()\n",
    "# bag-of-words\n",
    "X_transformed = cv.fit_transform(X)\n",
    "\n",
    "X_train, X_test, y_train, y_test, positions_train, positions_test = train_test_split(X_transformed, y, positions, test_size=0.33, random_state=42)\n",
    "print('Train size %s' % X_train.shape[0])\n",
    "print('Test size %s' % X_test.shape[0])\n",
    "print('Number of features %s' % X_test.shape[1])"
   ]
  },
  {
   "cell_type": "code",
   "execution_count": 10,
   "metadata": {},
   "outputs": [],
   "source": [
    "bag_of_words_classifiers = [\n",
    "    ('Naive Bayes', MultinomialNB()),\n",
    "    ('Logistic Regression', LogisticRegression(random_state=0, solver='lbfgs', multi_class='multinomial')),\n",
    "    ('5-NN', KNeighborsClassifier(n_neighbors=5, weights='distance')),\n",
    "    ('2-NN', KNeighborsClassifier(n_neighbors=2, weights='distance')),\n",
    "    ('1-NN', KNeighborsClassifier(n_neighbors=1, weights='distance')),\n",
    "    #('Neural Network 100x50', MLPClassifier(solver='adam', hidden_layer_sizes=(100, 50), random_state=42)),\n",
    "    #('Neural Network 500x250', MLPClassifier(solver='adam', hidden_layer_sizes=(500, 250), random_state=42)),\n",
    "    #('Neural Network 1000x500', MLPClassifier(solver='adam', hidden_layer_sizes=(1000, 500), random_state=42)),\n",
    "]"
   ]
  },
  {
   "cell_type": "code",
   "execution_count": 11,
   "metadata": {},
   "outputs": [
    {
     "name": "stdout",
     "output_type": "stream",
     "text": [
      "Naive Bayes\n",
      "0.9368475991649269\n",
      "Logistic Regression\n"
     ]
    },
    {
     "name": "stderr",
     "output_type": "stream",
     "text": [
      "/home/nkanak/.local/lib/python3.6/site-packages/sklearn/linear_model/_logistic.py:939: ConvergenceWarning: lbfgs failed to converge (status=1):\n",
      "STOP: TOTAL NO. of ITERATIONS REACHED LIMIT.\n",
      "\n",
      "Increase the number of iterations (max_iter) or scale the data as shown in:\n",
      "    https://scikit-learn.org/stable/modules/preprocessing.html.\n",
      "Please also refer to the documentation for alternative solver options:\n",
      "    https://scikit-learn.org/stable/modules/linear_model.html#logistic-regression\n",
      "  extra_warning_msg=_LOGISTIC_SOLVER_CONVERGENCE_MSG)\n"
     ]
    },
    {
     "name": "stdout",
     "output_type": "stream",
     "text": [
      "0.9386743215031316\n",
      "5-NN\n",
      "0.6427453027139874\n",
      "2-NN\n",
      "0.755741127348643\n",
      "1-NN\n",
      "0.7596555323590815\n"
     ]
    }
   ],
   "source": [
    "for classifier in bag_of_words_classifiers:\n",
    "    print(classifier[0])\n",
    "    benchmark_classifier(classifier[1], X_train, y_train, X_test, y_test)"
   ]
  },
  {
   "cell_type": "markdown",
   "metadata": {},
   "source": [
    "## Running experiments with graph-of-docs."
   ]
  },
  {
   "cell_type": "code",
   "execution_count": null,
   "metadata": {},
   "outputs": [],
   "source": []
  },
  {
   "cell_type": "markdown",
   "metadata": {},
   "source": [
    "### Graph-of-docs classifier"
   ]
  },
  {
   "cell_type": "code",
   "execution_count": 12,
   "metadata": {},
   "outputs": [],
   "source": [
    "_, test_docs = train_test_split(df['identifier'], test_size=0.33, random_state=42)\n",
    "test_docs = list(test_docs)"
   ]
  },
  {
   "cell_type": "code",
   "execution_count": 13,
   "metadata": {},
   "outputs": [
    {
     "name": "stdout",
     "output_type": "stream",
     "text": [
      "Accuracy: 0.9752087682672234\n"
     ]
    }
   ],
   "source": [
    "class_true = []\n",
    "class_pred = []\n",
    "for test_doc in test_docs:\n",
    "    community_id = doc_to_community_dict[test_doc]\n",
    "    community_docs = doc_communities_dict[community_id]\n",
    "    classes = [doc.split('_')[0] for doc in community_docs if doc != test_doc]\n",
    "    \n",
    "    correct_class = test_doc.split('_')[0]\n",
    "    classified_class = Counter(classes).most_common(1)[0][0]\n",
    "    class_true.append(correct_class)\n",
    "    class_pred.append(classified_class)\n",
    "print('Accuracy: %s' % (accuracy_score(class_true, class_pred)))\n",
    "# accuracy: 0.9752087682672234"
   ]
  },
  {
   "cell_type": "markdown",
   "metadata": {},
   "source": [
    "### Feature selection using classical methods"
   ]
  },
  {
   "cell_type": "code",
   "execution_count": null,
   "metadata": {},
   "outputs": [],
   "source": []
  },
  {
   "cell_type": "markdown",
   "metadata": {},
   "source": [
    "### Feature selection using graph-of-docs"
   ]
  },
  {
   "cell_type": "markdown",
   "metadata": {},
   "source": [
    "#### Create a vocabulary with the TOP N words of each community of docs"
   ]
  },
  {
   "cell_type": "code",
   "execution_count": 14,
   "metadata": {},
   "outputs": [],
   "source": [
    "train_docs = list(df.iloc[positions_train]['identifier'])"
   ]
  },
  {
   "cell_type": "code",
   "execution_count": 15,
   "metadata": {},
   "outputs": [],
   "source": [
    "vocabulary = []\n",
    "for doc in train_docs:\n",
    "    for word in select.get_community_tags(database, doc_to_community_dict[doc], top_terms=250):\n",
    "        vocabulary.append(word)\n",
    "vocabulary = list(set(vocabulary))"
   ]
  },
  {
   "cell_type": "code",
   "execution_count": 16,
   "metadata": {},
   "outputs": [
    {
     "name": "stdout",
     "output_type": "stream",
     "text": [
      "Train size 7778\n",
      "Test size 3832\n",
      "Number of features 37281\n"
     ]
    }
   ],
   "source": [
    "cv = CountVectorizer(vocabulary=vocabulary)\n",
    "# bag-of-words\n",
    "X_transformed = cv.fit_transform(X)\n",
    "\n",
    "X_train, X_test, y_train, y_test = train_test_split(X_transformed, y, test_size=0.33, random_state=42)\n",
    "print('Train size %s' % X_train.shape[0])\n",
    "print('Test size %s' % X_test.shape[0])\n",
    "print('Number of features %s' % X_test.shape[1])"
   ]
  },
  {
   "cell_type": "code",
   "execution_count": 17,
   "metadata": {},
   "outputs": [
    {
     "name": "stdout",
     "output_type": "stream",
     "text": [
      "Naive Bayes\n",
      "0.941544885177453\n",
      "Logistic Regression\n"
     ]
    },
    {
     "name": "stderr",
     "output_type": "stream",
     "text": [
      "/home/nkanak/.local/lib/python3.6/site-packages/sklearn/linear_model/_logistic.py:939: ConvergenceWarning: lbfgs failed to converge (status=1):\n",
      "STOP: TOTAL NO. of ITERATIONS REACHED LIMIT.\n",
      "\n",
      "Increase the number of iterations (max_iter) or scale the data as shown in:\n",
      "    https://scikit-learn.org/stable/modules/preprocessing.html.\n",
      "Please also refer to the documentation for alternative solver options:\n",
      "    https://scikit-learn.org/stable/modules/linear_model.html#logistic-regression\n",
      "  extra_warning_msg=_LOGISTIC_SOLVER_CONVERGENCE_MSG)\n"
     ]
    },
    {
     "name": "stdout",
     "output_type": "stream",
     "text": [
      "0.9399791231732777\n",
      "5-NN\n",
      "0.6907620041753654\n",
      "2-NN\n",
      "0.7549582463465553\n",
      "1-NN\n",
      "0.7630480167014614\n"
     ]
    }
   ],
   "source": [
    "for classifier in bag_of_words_classifiers:\n",
    "    print(classifier[0])\n",
    "    benchmark_classifier(classifier[1], X_train, y_train, X_test, y_test)"
   ]
  },
  {
   "cell_type": "markdown",
   "metadata": {},
   "source": [
    "### [tag1, tag2, ... tagN] -> class (Do this for each community of docs)"
   ]
  },
  {
   "cell_type": "code",
   "execution_count": 18,
   "metadata": {},
   "outputs": [],
   "source": [
    "train_docs = list(df.iloc[positions_train]['identifier'])\n",
    "test_docs = list(df.iloc[positions_test]['identifier'])\n",
    "all_docs = test_docs + train_docs\n",
    "unique_community_ids = list(set([doc_to_community_dict[doc] for doc in all_docs]))"
   ]
  },
  {
   "cell_type": "code",
   "execution_count": 19,
   "metadata": {},
   "outputs": [],
   "source": [
    "communities_y = []\n",
    "communities_tags = []\n",
    "for community_id in unique_community_ids:\n",
    "    # Find the most common community class\n",
    "    community_docs = doc_communities_dict[community_id]\n",
    "    classes = [doc.split('_')[0] for doc in community_docs]\n",
    "    classified_class = Counter(classes).most_common(1)[0][0]\n",
    "    communities_y.append(classified_class)\n",
    "    # Get the most important tags of each community.\n",
    "    communities_tags.append(' '.join(select.get_community_tags(database, community_id, top_terms=250)))"
   ]
  },
  {
   "cell_type": "code",
   "execution_count": 20,
   "metadata": {},
   "outputs": [
    {
     "name": "stdout",
     "output_type": "stream",
     "text": [
      "Number of features 38368\n"
     ]
    }
   ],
   "source": [
    "cv = CountVectorizer()\n",
    "X_transformed = cv.fit_transform(communities_tags)\n",
    "\n",
    "print('Number of features %s' % X_transformed.shape[1])\n",
    "communities_y_encoded = le.transform(communities_y)"
   ]
  },
  {
   "cell_type": "code",
   "execution_count": 21,
   "metadata": {},
   "outputs": [],
   "source": [
    "X_test_docs = []\n",
    "for doc in list(df[df['identifier'].isin(test_docs)]['text']):\n",
    "    X_test_docs.append(' '.join(list(set(doc.split()))))\n",
    "\n",
    "X_test_docs_transformed = cv.transform(X_test_docs)\n",
    "y_test = list(df[df['identifier'].isin(test_docs)]['class_number'])"
   ]
  },
  {
   "cell_type": "code",
   "execution_count": 22,
   "metadata": {},
   "outputs": [
    {
     "data": {
      "text/plain": [
       "(4024, 38368)"
      ]
     },
     "execution_count": 22,
     "metadata": {},
     "output_type": "execute_result"
    }
   ],
   "source": [
    "X_transformed.shape"
   ]
  },
  {
   "cell_type": "code",
   "execution_count": 23,
   "metadata": {},
   "outputs": [
    {
     "name": "stdout",
     "output_type": "stream",
     "text": [
      "Naive Bayes\n",
      "0.9611169102296451\n",
      "Logistic Regression\n",
      "0.9725991649269311\n",
      "5-NN\n",
      "0.759133611691023\n",
      "2-NN\n",
      "0.8812630480167014\n",
      "1-NN\n",
      "0.880741127348643\n"
     ]
    }
   ],
   "source": [
    "for classifier in bag_of_words_classifiers:\n",
    "    print(classifier[0])\n",
    "    benchmark_classifier(classifier[1], X_transformed, communities_y_encoded, X_test_docs_transformed, y_test)"
   ]
  }
 ],
 "metadata": {
  "kernelspec": {
   "display_name": "Python 3",
   "language": "python",
   "name": "python3"
  },
  "language_info": {
   "codemirror_mode": {
    "name": "ipython",
    "version": 3
   },
   "file_extension": ".py",
   "mimetype": "text/x-python",
   "name": "python",
   "nbconvert_exporter": "python",
   "pygments_lexer": "ipython3",
   "version": "3.6.9"
  }
 },
 "nbformat": 4,
 "nbformat_minor": 2
}
