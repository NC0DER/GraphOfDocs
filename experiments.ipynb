{
 "cells": [
  {
   "cell_type": "markdown",
   "metadata": {},
   "source": [
    "# Graph of Docs"
   ]
  },
  {
   "cell_type": "code",
   "execution_count": 1,
   "metadata": {},
   "outputs": [],
   "source": [
    "import pandas as pd\n",
    "from sklearn.model_selection import train_test_split\n",
    "from sklearn.feature_extraction.text import CountVectorizer\n",
    "from sklearn.preprocessing import LabelEncoder\n",
    "from sklearn.utils import shuffle\n",
    "\n",
    "from sklearn.naive_bayes import MultinomialNB\n",
    "from sklearn.linear_model import LogisticRegression\n",
    "from sklearn.neural_network import MLPClassifier\n",
    "from sklearn.neighbors import KNeighborsClassifier\n",
    "from sklearn.svm import LinearSVC\n",
    "from sklearn.linear_model import RidgeClassifier\n",
    "from sklearn.ensemble import AdaBoostClassifier\n",
    "from sklearn.ensemble import GradientBoostingClassifier\n",
    "\n",
    "from sklearn.feature_selection import VarianceThreshold\n",
    "from sklearn.feature_selection import SelectKBest\n",
    "from sklearn.feature_selection import chi2\n",
    "from sklearn.feature_selection import SelectFromModel\n",
    "from sklearn.metrics import accuracy_score\n",
    "\n",
    "from GraphOfDocs import utils\n",
    "from GraphOfDocs import select\n",
    "\n",
    "from GraphOfDocs.neo4j_wrapper import Neo4jDatabase\n",
    "from collections import Counter\n",
    "\n",
    "\n",
    "%matplotlib inline"
   ]
  },
  {
   "cell_type": "code",
   "execution_count": 2,
   "metadata": {},
   "outputs": [],
   "source": [
    "database = Neo4jDatabase('bolt://localhost:7687', 'neo4j', '123')"
   ]
  },
  {
   "cell_type": "code",
   "execution_count": 3,
   "metadata": {},
   "outputs": [],
   "source": [
    "doc_communities = select.get_document_communities(database)\n",
    "filtered_doc_communities = [doc_community for doc_community in doc_communities if doc_community[2] > 1]\n",
    "selected_docs = sum([docs for _, docs, _ in filtered_doc_communities], [])\n",
    "doc_communities_dict = {community_id: docs for community_id, docs, number_of_docs in filtered_doc_communities}\n",
    "doc_to_community_dict = {doc: community_id for community_id, doc_community, _ in filtered_doc_communities for doc in doc_community}"
   ]
  },
  {
   "cell_type": "code",
   "execution_count": 4,
   "metadata": {},
   "outputs": [
    {
     "data": {
      "text/html": [
       "<div>\n",
       "<style scoped>\n",
       "    .dataframe tbody tr th:only-of-type {\n",
       "        vertical-align: middle;\n",
       "    }\n",
       "\n",
       "    .dataframe tbody tr th {\n",
       "        vertical-align: top;\n",
       "    }\n",
       "\n",
       "    .dataframe thead th {\n",
       "        text-align: right;\n",
       "    }\n",
       "</style>\n",
       "<table border=\"1\" class=\"dataframe\">\n",
       "  <thead>\n",
       "    <tr style=\"text-align: right;\">\n",
       "      <th></th>\n",
       "      <th>identifier</th>\n",
       "      <th>class</th>\n",
       "      <th>class_number</th>\n",
       "      <th>text</th>\n",
       "    </tr>\n",
       "  </thead>\n",
       "  <tbody>\n",
       "    <tr>\n",
       "      <th>11876</th>\n",
       "      <td>rec.autos_102735</td>\n",
       "      <td>rec.autos</td>\n",
       "      <td>7</td>\n",
       "      <td>rdb1 cbnewsj att ronald deblock changing oil s...</td>\n",
       "    </tr>\n",
       "    <tr>\n",
       "      <th>17000</th>\n",
       "      <td>comp.windows.x_68077</td>\n",
       "      <td>comp.windows.x</td>\n",
       "      <td>5</td>\n",
       "      <td>boutilie rtsg mot eric boutilier looking windo...</td>\n",
       "    </tr>\n",
       "  </tbody>\n",
       "</table>\n",
       "</div>"
      ],
      "text/plain": [
       "                 identifier           class  class_number  \\\n",
       "11876      rec.autos_102735       rec.autos             7   \n",
       "17000  comp.windows.x_68077  comp.windows.x             5   \n",
       "\n",
       "                                                    text  \n",
       "11876  rdb1 cbnewsj att ronald deblock changing oil s...  \n",
       "17000  boutilie rtsg mot eric boutilier looking windo...  "
      ]
     },
     "execution_count": 4,
     "metadata": {},
     "output_type": "execute_result"
    }
   ],
   "source": [
    "# Read dataset, clean dataset and create a pandas dataframe of the dataset.\n",
    "dataset = utils.read_dataset('GraphOfDocs/data/20news-18828-all/')\n",
    "le = LabelEncoder()\n",
    "# The class of each document can be found by simply split (character '_') its filename. E.g. comp.sys.mac.hardware_51712.\n",
    "le.fit([file[0].split('_')[0] for file in dataset])\n",
    "# Tuple: file identifier, file class, file class number, file text\n",
    "clean_dataset = [(file[0], file[0].split('_')[0], le.transform([file[0].split('_')[0]])[0], ' '.join(utils.generate_words(file[1], extend_window=True, remove_stopwords=True, lemmatize=False, stemming=False))) for file in dataset]\n",
    "df = pd.DataFrame(clean_dataset, columns=['identifier', 'class', 'class_number', 'text'])\n",
    "\n",
    "df_not_selected = df[~df['identifier'].isin(selected_docs)]\n",
    "df = df[df['identifier'].isin(selected_docs)]\n",
    "\n",
    "#df_not_selected = shuffle(df_not_selected, random_state=42)\n",
    "df = shuffle(df, random_state=42)\n",
    "\n",
    "\n",
    "\n",
    "#df = df_not_selected\n",
    "\n",
    "\n",
    "df.head(2)\n"
   ]
  },
  {
   "cell_type": "code",
   "execution_count": 5,
   "metadata": {},
   "outputs": [],
   "source": [
    "X = df['text']\n",
    "y = df['class_number']"
   ]
  },
  {
   "cell_type": "code",
   "execution_count": 6,
   "metadata": {},
   "outputs": [],
   "source": [
    "def benchmark_classifier(clf, X_train, y_train, X_test, y_test):\n",
    "    clf.fit(X_train, y_train)\n",
    "    y_pred = clf.predict(X_test)\n",
    "    print(accuracy_score(y_test, y_pred))\n",
    "    return clf"
   ]
  },
  {
   "cell_type": "markdown",
   "metadata": {},
   "source": [
    "## Running experiments with bag-of-words and widely-used classifiers."
   ]
  },
  {
   "cell_type": "code",
   "execution_count": 7,
   "metadata": {},
   "outputs": [
    {
     "name": "stdout",
     "output_type": "stream",
     "text": [
      "Train size 7778\n",
      "Test size 3832\n",
      "Number of features 71370\n"
     ]
    }
   ],
   "source": [
    "cv = CountVectorizer()\n",
    "# bag-of-words\n",
    "X_transformed = cv.fit_transform(X)\n",
    "\n",
    "X_train, X_test, y_train, y_test = train_test_split(X_transformed, y, test_size=0.33, random_state=42)\n",
    "print('Train size %s' % X_train.shape[0])\n",
    "print('Test size %s' % X_test.shape[0])\n",
    "print('Number of features %s' % X_test.shape[1])"
   ]
  },
  {
   "cell_type": "code",
   "execution_count": 8,
   "metadata": {},
   "outputs": [
    {
     "name": "stdout",
     "output_type": "stream",
     "text": [
      "Naive Bayes\n",
      "0.9368475991649269\n",
      "Logistic Regression\n"
     ]
    },
    {
     "name": "stderr",
     "output_type": "stream",
     "text": [
      "/home/nkanak/.local/lib/python3.6/site-packages/sklearn/linear_model/_logistic.py:939: ConvergenceWarning: lbfgs failed to converge (status=1):\n",
      "STOP: TOTAL NO. of ITERATIONS REACHED LIMIT.\n",
      "\n",
      "Increase the number of iterations (max_iter) or scale the data as shown in:\n",
      "    https://scikit-learn.org/stable/modules/preprocessing.html.\n",
      "Please also refer to the documentation for alternative solver options:\n",
      "    https://scikit-learn.org/stable/modules/linear_model.html#logistic-regression\n",
      "  extra_warning_msg=_LOGISTIC_SOLVER_CONVERGENCE_MSG)\n"
     ]
    },
    {
     "name": "stdout",
     "output_type": "stream",
     "text": [
      "0.9389352818371608\n",
      "5-NN\n",
      "0.5474947807933194\n",
      "2-NN\n",
      "0.6109081419624217\n",
      "1-NN\n",
      "0.7596555323590815\n",
      "Neural Network 100x50\n",
      "0.9548538622129437\n",
      "Neural Network 500x250\n",
      "0.9598121085594989\n",
      "Neural Network 1000x500\n",
      "0.9590292275574113\n"
     ]
    }
   ],
   "source": [
    "bag_of_words_classifiers = [\n",
    "    ('Naive Bayes', MultinomialNB()),\n",
    "    ('Logistic Regression', LogisticRegression(random_state=0, solver='lbfgs', multi_class='multinomial')),\n",
    "    ('5-NN', KNeighborsClassifier(n_neighbors=5)),\n",
    "    ('2-NN', KNeighborsClassifier(n_neighbors=2)),\n",
    "    ('1-NN', KNeighborsClassifier(n_neighbors=1)),\n",
    "    ('Neural Network 100x50', MLPClassifier(solver='adam', hidden_layer_sizes=(100, 50), random_state=42)),\n",
    "    ('Neural Network 500x250', MLPClassifier(solver='adam', hidden_layer_sizes=(500, 250), random_state=42)),\n",
    "    ('Neural Network 1000x500', MLPClassifier(solver='adam', hidden_layer_sizes=(1000, 500), random_state=42)),\n",
    "]\n",
    "\n",
    "for classifier in bag_of_words_classifiers:\n",
    "    print(classifier[0])\n",
    "    benchmark_classifier(classifier[1], X_train, y_train, X_test, y_test)\n",
    "\n",
    "#print('Naive Bayes 0.8699710331509495')\n",
    "#print('Logistic Regression 0.8896041197296427')\n",
    "#print('5-NN 0.46057289990344386')\n",
    "#print('2-NN 0.4652397811393627')\n",
    "#print('1-NN 0.6094303186353396')\n",
    "#print('Neural Network 100x50 0.9087544254908272')\n",
    "#print('Neural Network 500x250 0.9140650144834245')\n",
    "#print('Neural Network 1000x500 0.9013517862890248')"
   ]
  },
  {
   "cell_type": "markdown",
   "metadata": {},
   "source": [
    "## Running experiments with bag-of-words, feature selection and widely-used classifiers."
   ]
  },
  {
   "cell_type": "markdown",
   "metadata": {},
   "source": [
    "### Performing feature selection using interpretable models."
   ]
  },
  {
   "cell_type": "markdown",
   "metadata": {},
   "source": [
    "#### Deciding which is the best model to use as feature selector (LinearSVC vs RidgeClassifier vs AdaBoostClassifier)."
   ]
  },
  {
   "cell_type": "code",
   "execution_count": null,
   "metadata": {},
   "outputs": [],
   "source": [
    "#benchmark_classifier(LinearSVC(), X_train, y_train, X_test, y_test)\n",
    "#benchmark_classifier(RidgeClassifier(), X_train, y_train, X_test, y_test)\n",
    "#benchmark_classifier(AdaBoostClassifier(), X_train, y_train, X_test, y_test)\n",
    "\n",
    "# best LinearSVC\n",
    "print('LinearSVC 0.8879948503379466')\n",
    "print('RidgeClassifier 0.8558094625040231')\n",
    "print('AdaBoostClassifier 0.5413582233665916')"
   ]
  },
  {
   "cell_type": "code",
   "execution_count": null,
   "metadata": {},
   "outputs": [],
   "source": [
    "selected_features = SelectFromModel(estimator=LinearSVC()).fit_transform(X_transformed, y)"
   ]
  },
  {
   "cell_type": "code",
   "execution_count": null,
   "metadata": {},
   "outputs": [],
   "source": [
    "X_selected_train, X_selected_test, y_selected_train, y_selected_test = train_test_split(selected_features, y, test_size=0.33, random_state=42)\n",
    "print('Train size %s' % X_selected_train.shape[0])\n",
    "print('Test size %s' % X_selected_test.shape[0])\n",
    "print('Number of features %s' % X_selected_test.shape[1])"
   ]
  },
  {
   "cell_type": "code",
   "execution_count": null,
   "metadata": {},
   "outputs": [],
   "source": [
    "bag_of_words_selected_classifiers = [\n",
    "    #('Naive Bayes', MultinomialNB()),\n",
    "    #('Logistic Regression', LogisticRegression(random_state=0, solver='lbfgs', multi_class='multinomial')),\n",
    "    #('5-NN', KNeighborsClassifier(n_neighbors=5)),\n",
    "    #('2-NN', KNeighborsClassifier(n_neighbors=2)),\n",
    "    #('1-NN', KNeighborsClassifier(n_neighbors=1)),\n",
    "    #('Neural Network 100x50', MLPClassifier(solver='adam', hidden_layer_sizes=(100, 50), random_state=42)),\n",
    "    #('Neural Network 500x250', MLPClassifier(solver='adam', hidden_layer_sizes=(500, 250), random_state=42)),\n",
    "    #('Neural Network 1000x500', MLPClassifier(solver='adam', hidden_layer_sizes=(1000, 500), random_state=42)),\n",
    "]\n",
    "\n",
    "for classifier in bag_of_words_selected_classifiers:\n",
    "    print(classifier[0])\n",
    "    benchmark_classifier(classifier[1], X_selected_train, y_selected_train, X_selected_test, y_selected_test)\n",
    "\n",
    "print('Naive Bayes 0.8944319279047312')\n",
    "print('Logistic Regression 0.8925008046346958')\n",
    "print('5-NN 0.4787576440296106')\n",
    "print('2-NN 0.48455101383971677')\n",
    "print('1-NN 0.6221435468297393')\n",
    "print('Neural Network 100x50 0.8978113936272932')\n",
    "print('Neural Network 500x250 0.9110074026392018')\n",
    "print('Neural Network 1000x500 0.8759253299002253')"
   ]
  },
  {
   "cell_type": "markdown",
   "metadata": {},
   "source": [
    "### Performing feature selection by removing features with low variance."
   ]
  },
  {
   "cell_type": "code",
   "execution_count": null,
   "metadata": {},
   "outputs": [],
   "source": [
    "sel = VarianceThreshold(threshold=0.8)"
   ]
  },
  {
   "cell_type": "code",
   "execution_count": null,
   "metadata": {},
   "outputs": [],
   "source": [
    "selected_variance_features = sel.fit_transform(X_transformed)\n",
    "X_selected_variance_train, X_selected_variance_test, y_selected_variance_train, y_selected_variance_test = train_test_split(selected_variance_features, y, test_size=0.33, random_state=42)\n",
    "print('Train size %s' % X_selected_variance_train.shape[0])\n",
    "print('Test size %s' % X_selected_variance_test.shape[0])\n",
    "print('Number of features %s' % X_selected_variance_test.shape[1])"
   ]
  },
  {
   "cell_type": "code",
   "execution_count": null,
   "metadata": {},
   "outputs": [],
   "source": [
    "bag_of_words_selected_variance_classifiers = [\n",
    "    #('Naive Bayes', MultinomialNB()),\n",
    "    #('Logistic Regression', LogisticRegression(random_state=0, solver='lbfgs', multi_class='multinomial')),\n",
    "    #('5-NN', KNeighborsClassifier(n_neighbors=5)),\n",
    "    #('2-NN', KNeighborsClassifier(n_neighbors=2)),\n",
    "    #('1-NN', KNeighborsClassifier(n_neighbors=1)),\n",
    "    #('Neural Network 100x50', MLPClassifier(solver='adam', hidden_layer_sizes=(100, 50), random_state=42)),\n",
    "    #('Neural Network 500x250', MLPClassifier(solver='adam', hidden_layer_sizes=(500, 250), random_state=42)),\n",
    "    #('Neural Network 1000x500', MLPClassifier(solver='adam', hidden_layer_sizes=(1000, 500), random_state=42)),\n",
    "]\n",
    "\n",
    "for classifier in bag_of_words_selected_variance_classifiers:\n",
    "    print(classifier[0])\n",
    "    benchmark_classifier(classifier[1], X_selected_variance_train, y_selected_variance_train, X_selected_variance_test, y_selected_variance_test)"
   ]
  },
  {
   "cell_type": "markdown",
   "metadata": {},
   "source": [
    "## Running experiments with graph-of-words."
   ]
  },
  {
   "cell_type": "code",
   "execution_count": null,
   "metadata": {},
   "outputs": [],
   "source": []
  },
  {
   "cell_type": "markdown",
   "metadata": {},
   "source": [
    "## Running experiments with graph-of-docs."
   ]
  },
  {
   "cell_type": "code",
   "execution_count": 9,
   "metadata": {},
   "outputs": [],
   "source": [
    "_, test_docs = train_test_split(df['identifier'], test_size=0.33, random_state=42)\n",
    "test_docs = list(test_docs)"
   ]
  },
  {
   "cell_type": "code",
   "execution_count": 10,
   "metadata": {},
   "outputs": [
    {
     "name": "stdout",
     "output_type": "stream",
     "text": [
      "Accuracy: 0.9752087682672234\n"
     ]
    }
   ],
   "source": [
    "class_true = []\n",
    "class_pred = []\n",
    "for test_doc in test_docs:\n",
    "    community_id = doc_to_community_dict[test_doc]\n",
    "    community_docs = doc_communities_dict[community_id]\n",
    "    classes = [doc.split('_')[0] for doc in community_docs if doc != test_doc]\n",
    "    \n",
    "    correct_class = test_doc.split('_')[0]\n",
    "    classified_class = Counter(classes).most_common(1)[0][0]\n",
    "    class_true.append(correct_class)\n",
    "    class_pred.append(classified_class)\n",
    "    #print(correct_class, classified_class)\n",
    "print('Accuracy: %s' % (accuracy_score(class_true, class_pred)))\n",
    "# accuracy: 0.9752087682672234"
   ]
  },
  {
   "cell_type": "code",
   "execution_count": null,
   "metadata": {},
   "outputs": [],
   "source": [
    "X = ['fo ha', 'foo bar', 'foo bar', 'foo bar']\n",
    "y = le.transform(['alt.atheism', 'comp.graphics', 'comp.graphics', 'comp.graphics'])\n",
    "\n",
    "cv = CountVectorizer()\n",
    "# bag-of-words\n",
    "X_transformed = cv.fit_transform(X)\n",
    "\n",
    "X_train, X_test, y_train, y_test = train_test_split(X_transformed, y, test_size=0.33, random_state=42)\n",
    "print('Train size %s' % X_train.shape[0])\n",
    "print('Test size %s' % X_test.shape[0])\n",
    "print('Number of features %s' % X_test.shape[1])"
   ]
  },
  {
   "cell_type": "code",
   "execution_count": null,
   "metadata": {},
   "outputs": [],
   "source": [
    "select.get_all_tags_per_community"
   ]
  },
  {
   "cell_type": "code",
   "execution_count": null,
   "metadata": {},
   "outputs": [],
   "source": [
    "cv.transform(['foo ha']).toarray()"
   ]
  },
  {
   "cell_type": "code",
   "execution_count": null,
   "metadata": {},
   "outputs": [],
   "source": [
    "cv.vocabulary_"
   ]
  },
  {
   "cell_type": "code",
   "execution_count": null,
   "metadata": {},
   "outputs": [],
   "source": [
    "le.classes_"
   ]
  },
  {
   "cell_type": "code",
   "execution_count": null,
   "metadata": {},
   "outputs": [],
   "source": []
  },
  {
   "cell_type": "code",
   "execution_count": null,
   "metadata": {},
   "outputs": [],
   "source": []
  },
  {
   "cell_type": "code",
   "execution_count": null,
   "metadata": {},
   "outputs": [],
   "source": [
    "_, test_docs = train_test_split(df['identifier'], test_size=0.33, random_state=42)\n",
    "test_docs = list(test_docs)"
   ]
  },
  {
   "cell_type": "code",
   "execution_count": null,
   "metadata": {},
   "outputs": [],
   "source": [
    "class_true = []\n",
    "class_pred = []\n",
    "\n",
    "for test_doc in test_docs[:]:\n",
    "    doc_terms = select.get_document_terms(database, test_doc, group_by_word_community_id=True)\n",
    "    #print(doc_terms)\n",
    "    #print(doc_terms)\n",
    "    #most_common_word_community = Counter([community_id for _, _, community_id in doc_terms]).most_common()[0][0]\n",
    "    #print(most_common_word_community)\n",
    "    #selected_terms = sorted([(term, pagerank) for term, pagerank, community_id in doc_terms if community_id == most_common_word_community], key=lambda t: t[1], reverse=True)\n",
    "    \n",
    "    #selected_terms = [(term, pagerank) for term, pagerank, community_id in doc_terms if community_id == most_common_word_community]\n",
    "    #selected_terms = doc_terms[0][1][:50]\n",
    "    #print(selected_terms)\n",
    "    #selected_terms = sum([word_community[1][:25] for word_community in doc_terms], [])\n",
    "    selected_terms = []\n",
    "    for word_community in doc_terms[:1]:\n",
    "        selected_terms += word_community[1][:25]\n",
    "\n",
    "    selected_terms = [term for term, _ in selected_terms]\n",
    "    #print(selected_terms)\n",
    "    #print(selected_terms)\n",
    "    docs = []\n",
    "    communities = select.get_communities_by_tags(database, selected_terms)\n",
    "    if communities is None:\n",
    "        print('communities is none')\n",
    "        continue\n",
    "    docs += sum([community_docs for _, community_docs in communities], [])\n",
    "    classes = [doc.split('_')[0] for doc in docs]\n",
    "\n",
    "    correct_class = test_doc.split('_')[0]\n",
    "    if len(classes) == 0:\n",
    "        print('zero class, ignore this element')\n",
    "        continue\n",
    "    classified_class = Counter(classes).most_common(1)[0][0]\n",
    "    class_true.append(correct_class)\n",
    "    class_pred.append(classified_class)\n",
    "    #print(correct_class, classified_class)\n",
    "print('Accuracy: %s' % (accuracy_score(class_true, class_pred)))"
   ]
  },
  {
   "cell_type": "markdown",
   "metadata": {},
   "source": [
    "## Discussion"
   ]
  },
  {
   "cell_type": "code",
   "execution_count": null,
   "metadata": {},
   "outputs": [],
   "source": [
    "community_tags = {key: array for key, array in select.get_all_tags_per_community(database)}"
   ]
  },
  {
   "cell_type": "code",
   "execution_count": null,
   "metadata": {},
   "outputs": [],
   "source": [
    "documents_per_community = {key: array for key, array, _ in select.get_document_communities(database)}"
   ]
  },
  {
   "cell_type": "code",
   "execution_count": null,
   "metadata": {},
   "outputs": [],
   "source": [
    "len(documents_per_community.keys())"
   ]
  },
  {
   "cell_type": "code",
   "execution_count": null,
   "metadata": {},
   "outputs": [],
   "source": [
    "len(documents_per_community.keys())"
   ]
  },
  {
   "cell_type": "code",
   "execution_count": null,
   "metadata": {},
   "outputs": [],
   "source": [
    "for key in documents_per_community.keys():\n",
    "    p = community_tags[key]"
   ]
  },
  {
   "cell_type": "code",
   "execution_count": null,
   "metadata": {},
   "outputs": [],
   "source": [
    "len(community_tags)"
   ]
  },
  {
   "cell_type": "code",
   "execution_count": null,
   "metadata": {},
   "outputs": [],
   "source": []
  }
 ],
 "metadata": {
  "kernelspec": {
   "display_name": "Python 3",
   "language": "python",
   "name": "python3"
  },
  "language_info": {
   "codemirror_mode": {
    "name": "ipython",
    "version": 3
   },
   "file_extension": ".py",
   "mimetype": "text/x-python",
   "name": "python",
   "nbconvert_exporter": "python",
   "pygments_lexer": "ipython3",
   "version": "3.6.9"
  }
 },
 "nbformat": 4,
 "nbformat_minor": 2
}
